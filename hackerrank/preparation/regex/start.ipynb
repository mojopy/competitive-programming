{
 "cells": [
  {
   "cell_type": "code",
   "execution_count": null,
   "id": "57f921b5-aa86-4b72-8c1f-99e03c121ad5",
   "metadata": {},
   "outputs": [],
   "source": [
    "import re"
   ]
  },
  {
   "cell_type": "code",
   "execution_count": null,
   "id": "51e2f7e7-5999-4728-988a-5870c1204d32",
   "metadata": {},
   "outputs": [],
   "source": [
    "s = \"ehedi akjon valo sele. M Number 1 sele.\"\n",
    "\n",
    "match = re.search(r\"^M\", s)\n",
    "if match:\n",
    "    print(match.group())\n"
   ]
  },
  {
   "cell_type": "code",
   "execution_count": 27,
   "id": "fc705028-4009-4391-9eb5-57201e50df97",
   "metadata": {},
   "outputs": [
    {
     "name": "stdout",
     "output_type": "stream",
     "text": [
      "['A', 'A', 'a', 'e', 'a', 'a']\n"
     ]
    }
   ],
   "source": [
    "s= \"Aj Akasher Mon valo [ nai.\"\n",
    "m = re.findall(r\"[a-fA-F]\" , s)\n",
    "if m:\n",
    "    print(m)"
   ]
  },
  {
   "cell_type": "code",
   "execution_count": 29,
   "id": "c2c189f8-ced5-4be3-b287-f6f41ecfc478",
   "metadata": {},
   "outputs": [
    {
     "name": "stdout",
     "output_type": "stream",
     "text": [
      "e\n"
     ]
    }
   ],
   "source": [
    "pattern = re.compile('[aeiou]')\n",
    "\n",
    "result = pattern.search('Hello')\n",
    "\n",
    "print(result.group()) "
   ]
  },
  {
   "cell_type": "code",
   "execution_count": null,
   "id": "ec74ffd5-bfb9-4cb4-8efe-573253f191e0",
   "metadata": {},
   "outputs": [],
   "source": []
  }
 ],
 "metadata": {
  "kernelspec": {
   "display_name": "Python 3 (ipykernel)",
   "language": "python",
   "name": "python3"
  },
  "language_info": {
   "codemirror_mode": {
    "name": "ipython",
    "version": 3
   },
   "file_extension": ".py",
   "mimetype": "text/x-python",
   "name": "python",
   "nbconvert_exporter": "python",
   "pygments_lexer": "ipython3",
   "version": "3.10.12"
  }
 },
 "nbformat": 4,
 "nbformat_minor": 5
}
