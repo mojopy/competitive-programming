{
 "cells": [
  {
   "cell_type": "markdown",
   "id": "be862e48-99b1-4211-bd9f-d0f1817eca29",
   "metadata": {},
   "source": [
    "# Pre Knowledge"
   ]
  },
  {
   "cell_type": "code",
   "execution_count": null,
   "id": "3919b188-f4bf-4bf1-9930-4614b634853e",
   "metadata": {},
   "outputs": [],
   "source": [
    "# Nested List\n",
    "# Function\n",
    "# sort()\n",
    "# sorted()"
   ]
  },
  {
   "cell_type": "code",
   "execution_count": null,
   "id": "eedab8b5-310b-4f6c-93d5-32684672f29e",
   "metadata": {},
   "outputs": [],
   "source": [
    "my_list = [1,3, 5, 4]\n",
    "my_list[1]"
   ]
  },
  {
   "cell_type": "code",
   "execution_count": null,
   "id": "22ac0e4e-99c7-473b-8b9b-821e63388ed8",
   "metadata": {},
   "outputs": [],
   "source": [
    "nlist = [[1,2, 3,4],[\"a\", \"b\"],[\"a\", 2]]\n",
    "nlist[2][1]"
   ]
  },
  {
   "cell_type": "code",
   "execution_count": null,
   "id": "de192303-8cdb-451f-9b10-49bbe61836dc",
   "metadata": {},
   "outputs": [],
   "source": [
    "mlist = [\"a\", 2]\n",
    "mlist[0]"
   ]
  },
  {
   "cell_type": "markdown",
   "id": "b754df6a-7d5b-47dc-b765-f11c13e8f0bf",
   "metadata": {},
   "source": [
    "## Psudocode"
   ]
  },
  {
   "cell_type": "code",
   "execution_count": null,
   "id": "7ba2083e-e424-4478-9a77-03c869392b90",
   "metadata": {},
   "outputs": [],
   "source": [
    "# Input > total Student,names and grade\n",
    "# storing name and grades in a nested list\n",
    "# finding second lowest grade\n",
    "# Print the names of the second lowest grade"
   ]
  },
  {
   "cell_type": "markdown",
   "id": "d2d839dd-953d-464c-b3f6-a838c6e27830",
   "metadata": {},
   "source": [
    "# Jagged or Crude Solutions"
   ]
  },
  {
   "cell_type": "code",
   "execution_count": null,
   "id": "5307937b-f163-4c21-9227-996614b5edd4",
   "metadata": {},
   "outputs": [],
   "source": [
    "def student_grade(sg):\n",
    "    grades = []\n",
    "    for grade in sg:\n",
    "        grades.append(grade[1])\n",
    "    \n",
    "    sorted_grades = sorted(set(grades))\n",
    "    \n",
    "        \n",
    "    names_s_lowest= []\n",
    "    for student in sg:\n",
    "        if student[1] == sorted_grades[1]:\n",
    "            names_s_lowest.append(student[0])\n",
    "\n",
    "    names_second_l = sorted(names_s_lowest)\n",
    "    for name in names_second_l:\n",
    "        print(name)\n",
    "    \n",
    "\n",
    "    \n",
    "if __name__ == '__main__':\n",
    "    sg = []\n",
    "    for _ in range(int(input())):\n",
    "        b = input()\n",
    "        c = float(input())\n",
    "        sg.append([b, c])\n",
    "        \n",
    "    student_grade(sg)"
   ]
  },
  {
   "cell_type": "markdown",
   "id": "74c04f5a-c8d6-4387-8601-1460065f41b6",
   "metadata": {},
   "source": [
    "# Refined Solutions"
   ]
  },
  {
   "cell_type": "code",
   "execution_count": null,
   "id": "5ecdedef-01f5-4498-85f0-eab9eb7d95b2",
   "metadata": {},
   "outputs": [],
   "source": []
  },
  {
   "cell_type": "markdown",
   "id": "f54f6ee4-26d4-420d-9401-96fd67e21509",
   "metadata": {},
   "source": [
    "# Additional"
   ]
  },
  {
   "cell_type": "code",
   "execution_count": null,
   "id": "dbae56c1-bf20-493d-b2ce-e8ad3648599e",
   "metadata": {},
   "outputs": [],
   "source": []
  }
 ],
 "metadata": {
  "kernelspec": {
   "display_name": "Python 3 (ipykernel)",
   "language": "python",
   "name": "python3"
  },
  "language_info": {
   "codemirror_mode": {
    "name": "ipython",
    "version": 3
   },
   "file_extension": ".py",
   "mimetype": "text/x-python",
   "name": "python",
   "nbconvert_exporter": "python",
   "pygments_lexer": "ipython3",
   "version": "3.10.12"
  }
 },
 "nbformat": 4,
 "nbformat_minor": 5
}
