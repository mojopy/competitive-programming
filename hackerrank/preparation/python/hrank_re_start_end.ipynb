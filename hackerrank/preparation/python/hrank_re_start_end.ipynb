{
 "cells": [
  {
   "cell_type": "markdown",
   "metadata": {},
   "source": [
    "# Pre Knowledge"
   ]
  },
  {
   "cell_type": "code",
   "execution_count": 1,
   "metadata": {},
   "outputs": [],
   "source": [
    "import re"
   ]
  },
  {
   "cell_type": "code",
   "execution_count": 3,
   "metadata": {},
   "outputs": [
    {
     "name": "stdout",
     "output_type": "stream",
     "text": [
      "Match found:  world\n"
     ]
    }
   ],
   "source": [
    "pattern = re.compile(r'world')\n",
    "string = 'hello world world'\n",
    "match = pattern.search(string)\n",
    "\n",
    "if match:\n",
    "    print('Match found: ', match.group())\n",
    "else:\n",
    "    print('No match')"
   ]
  },
  {
   "cell_type": "code",
   "execution_count": 4,
   "metadata": {},
   "outputs": [
    {
     "name": "stdout",
     "output_type": "stream",
     "text": [
      "First match found: 123\n",
      "second match found: 456\n"
     ]
    }
   ],
   "source": [
    "pattern = re.compile(r'\\d+')\n",
    "string = 'There are 123 apples and 456 oranges.'\n",
    "\n",
    "first_match = pattern.search(string)\n",
    "\n",
    "if first_match:\n",
    "    print('First match found:', first_match.group())\n",
    "\n",
    "    start_position = first_match.end()\n",
    "\n",
    "    second_match = pattern.search(string, start_position)\n",
    "    if second_match:\n",
    "        print('second match found:', second_match.group())\n",
    "    else:\n",
    "        print('No second match found')\n",
    "else:\n",
    "    print('No first match found')\n",
    "\n"
   ]
  },
  {
   "cell_type": "code",
   "execution_count": 6,
   "metadata": {},
   "outputs": [
    {
     "name": "stdout",
     "output_type": "stream",
     "text": [
      "Year: 2024\n",
      "Month: 03\n",
      "Day: 12\n"
     ]
    }
   ],
   "source": [
    "pattern = re.compile(r'(\\d+)-(\\d+)-(\\d+)')\n",
    "\n",
    "string = 'Date: 2024-03-12'\n",
    "\n",
    "m = pattern.search(string)\n",
    "\n",
    "if match:\n",
    "    print('Year:', m.group(1))\n",
    "    print('Month:', m.group(2))\n",
    "    print('Day:', m.group(3))\n",
    "\n",
    "else:\n",
    "    print('Pattern not found')"
   ]
  },
  {
   "cell_type": "code",
   "execution_count": 7,
   "metadata": {},
   "outputs": [
    {
     "name": "stdout",
     "output_type": "stream",
     "text": [
      "Hello\n"
     ]
    }
   ],
   "source": [
    "pattern = re.compile(r'hello', re.IGNORECASE)\n",
    "\n",
    "string = 'Hellow World'\n",
    "\n",
    "m = pattern.search(string)\n",
    "\n",
    "if m:\n",
    "    print(m.group())\n",
    "else:\n",
    "    print('pattern not found')\n",
    "    "
   ]
  },
  {
   "cell_type": "code",
   "execution_count": 10,
   "metadata": {},
   "outputs": [
    {
     "name": "stdout",
     "output_type": "stream",
     "text": [
      "Name: Count\n",
      "Value: 42\n"
     ]
    }
   ],
   "source": [
    "pattern = re.compile(r'(?P<name>\\w+): (?P<value>\\d+)')\n",
    "\n",
    "string = 'Count: 42'\n",
    "\n",
    "match = pattern.search(string)\n",
    "\n",
    "if match:\n",
    "    print('Name:', match.group('name'))\n",
    "    print('Value:', match.group('value'))\n",
    "\n",
    "else:\n",
    "    print('No match')"
   ]
  },
  {
   "cell_type": "markdown",
   "metadata": {},
   "source": [
    "# Psuedocode"
   ]
  },
  {
   "cell_type": "code",
   "execution_count": null,
   "metadata": {},
   "outputs": [],
   "source": []
  },
  {
   "cell_type": "markdown",
   "metadata": {},
   "source": [
    "# Jagged or Crude Solutions"
   ]
  },
  {
   "cell_type": "code",
   "execution_count": null,
   "metadata": {},
   "outputs": [],
   "source": [
    "import re\n",
    "s = input()\n",
    "k = input()\n",
    "\n",
    "pattern = re.compile(k)\n",
    "m = pattern.search(s)\n",
    "\n",
    "if not m:\n",
    "    print(\"(-1, -1)\")\n",
    "else:\n",
    "    while m:\n",
    "        print(\"({0}, {1})\".format(m.start(), m.end() - 1))\n",
    "        m = pattern.search(s, m.start() + 1)"
   ]
  },
  {
   "cell_type": "code",
   "execution_count": null,
   "metadata": {},
   "outputs": [],
   "source": [
    "import re\n",
    "s = input()\n",
    "k = int(input())\n",
    "m = re.finditer(r''+k[0]+'(?=('+k[1]+'))',s)\n",
    "m = list(m)\n",
    "\n",
    "if(m):\n",
    "    for i in m:\n",
    "        print((i.start(),i.end()-2+len(k)))\n",
    "else:\n",
    "    print((-1,-1))"
   ]
  },
  {
   "cell_type": "code",
   "execution_count": null,
   "metadata": {},
   "outputs": [],
   "source": [
    "import re\n",
    "\n",
    "if __name__ == '__main__':\n",
    "    s = 'aaadaa' #input()\n",
    "    k = 'aa' #input()\n",
    "    \n",
    "    pattern = re.compile(r'%s' %k)\n",
    "    \n",
    "    m = pattern.search(s)\n",
    "    \n",
    "    if m:\n",
    "        while m:\n",
    "            print((m.start(), m.end()-1))\n",
    "            m = pattern.search(s, m.start()+1)\n",
    "    else:\n",
    "        print(-1, -1)"
   ]
  },
  {
   "cell_type": "code",
   "execution_count": null,
   "metadata": {},
   "outputs": [],
   "source": [
    "import re\n",
    "\n",
    "s = input()\n",
    "k = input()\n",
    "\n",
    "pattern = re.compile(k)\n",
    "r = pattern.search(s)\n",
    "\n",
    "if not r: print(\"(-1, -1)\")\n",
    "\n",
    "while r:\n",
    "    print(\"({0}, {1})\".format(r.start(), r.end() - 1))\n",
    "    r = pattern.search(s, r.start() + 1)"
   ]
  },
  {
   "cell_type": "markdown",
   "metadata": {},
   "source": [
    "# Refined Solutions"
   ]
  },
  {
   "cell_type": "code",
   "execution_count": null,
   "metadata": {},
   "outputs": [],
   "source": []
  },
  {
   "cell_type": "markdown",
   "metadata": {},
   "source": [
    "# Additional Practice"
   ]
  },
  {
   "cell_type": "code",
   "execution_count": null,
   "metadata": {},
   "outputs": [],
   "source": []
  }
 ],
 "metadata": {
  "kernelspec": {
   "display_name": "Python 3",
   "language": "python",
   "name": "python3"
  },
  "language_info": {
   "codemirror_mode": {
    "name": "ipython",
    "version": 3
   },
   "file_extension": ".py",
   "mimetype": "text/x-python",
   "name": "python",
   "nbconvert_exporter": "python",
   "pygments_lexer": "ipython3",
   "version": "3.10.12"
  }
 },
 "nbformat": 4,
 "nbformat_minor": 2
}
