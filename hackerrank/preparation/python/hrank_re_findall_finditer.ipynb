{
 "cells": [
  {
   "cell_type": "markdown",
   "metadata": {},
   "source": [
    "# Pre Knowledge"
   ]
  },
  {
   "cell_type": "code",
   "execution_count": 1,
   "metadata": {},
   "outputs": [],
   "source": [
    "import re"
   ]
  },
  {
   "cell_type": "code",
   "execution_count": null,
   "metadata": {},
   "outputs": [],
   "source": [
    "text = \"The quick brown fox jumps over the lazy dog.\"\n",
    "matches = re.findall(r\"\\dog\", text)\n",
    "print(matches)\n"
   ]
  },
  {
   "cell_type": "code",
   "execution_count": null,
   "metadata": {},
   "outputs": [],
   "source": [
    "\n",
    "text = \"The quick brown fox jumps over the lazy dog.\"\n",
    "pattern = r\"\\b\\w{3}\\b\"  # Match three-letter words\n",
    "\n",
    "matches = re.findall(pattern, text)\n",
    "\n",
    "print(matches)\n"
   ]
  },
  {
   "cell_type": "code",
   "execution_count": null,
   "metadata": {},
   "outputs": [],
   "source": [
    "\n",
    "text = \"apple-123 banana-456 cherry-789\"\n",
    "\n",
    "pattern = r\"(\\w+)-(\\d+)\"\n",
    "matches = re.findall(pattern, text)\n",
    "\n",
    "for match in matches:\n",
    "    # Each match is a tuple containing the substrings captured by the groups\n",
    "    word, number = match\n",
    "    print(f\"Word: {word}, Number: {number}\")\n"
   ]
  },
  {
   "cell_type": "code",
   "execution_count": null,
   "metadata": {},
   "outputs": [],
   "source": [
    "\n",
    "text = \"Date: 2022-01-15 Time: 14:30\"\n",
    "\n",
    "# Using groups to capture date and time components\n",
    "pattern = r\"Date: (\\d{4}-\\d{2}-\\d{2}) Time: (\\d{2}:\\d{2})\"\n",
    "match = re.search(pattern, text)\n",
    "\n",
    "if match:\n",
    "    # Accessing captured groups using group() or groups()\n",
    "    date = match.group(1)\n",
    "    time = match.group(2)\n",
    "\n",
    "    print(f\"Date: {date}, Time: {time}\")\n",
    "else:\n",
    "    print(\"Pattern not found.\")\n"
   ]
  },
  {
   "cell_type": "code",
   "execution_count": null,
   "metadata": {},
   "outputs": [],
   "source": [
    "text = \"Emails: alice@example.com, bob123@gmail.com, charlie@domain.com\"\n",
    "\n",
    "pattern = r\"(\\w+@\\w+\\.\\w+)\"\n",
    "matches = re.findall(pattern, text)\n",
    "\n",
    "print(\"Email Adresses:\")\n",
    "\n",
    "for match in matches:\n",
    "    print(match)"
   ]
  },
  {
   "cell_type": "code",
   "execution_count": 2,
   "metadata": {},
   "outputs": [
    {
     "name": "stdout",
     "output_type": "stream",
     "text": [
      "Match found at index 4 and length 3\n",
      "Match found at index 16 and length 3\n",
      "Match found at index 20 and length 3\n",
      "Match found at index 31 and length 3\n"
     ]
    }
   ],
   "source": [
    "text = \"The cat and the hat sat on the mat.\"\n",
    "\n",
    "pattern = re.compile(r\"\\b\\w+at\\b\")\n",
    "\n",
    "matches = pattern.finditer(text)\n",
    "\n",
    "for match in matches:\n",
    "    print(f\"Match found at index {match.start()} and length {match.end() - match.start()}\")\n",
    "    "
   ]
  },
  {
   "cell_type": "code",
   "execution_count": 3,
   "metadata": {},
   "outputs": [
    {
     "name": "stdout",
     "output_type": "stream",
     "text": [
      "Email found: info@example.com\n",
      "Email found: support@example.com\n"
     ]
    }
   ],
   "source": [
    "text = \"Contact us at info@example.com or support@example.com for assistance.\"\n",
    "\n",
    "email_pattern = re.compile(r'\\b[A-Za-z0-9._%+-]+@[A-Za-z0-9.-]+\\.[A-Z|a-z]{2,}\\b')\n",
    "\n",
    "email_matches = email_pattern.finditer(text)\n",
    "\n",
    "for match in email_matches:\n",
    "    print(f\"Email found: {match.group()}\")"
   ]
  },
  {
   "cell_type": "code",
   "execution_count": 2,
   "metadata": {},
   "outputs": [
    {
     "name": "stdout",
     "output_type": "stream",
     "text": [
      "['Example', 'example']\n"
     ]
    }
   ],
   "source": [
    "pattern =re.compile(r\"example\", flags=re.IGNORECASE)\n",
    "result = pattern.findall(\"Example string for example matching\")\n",
    "print(result)"
   ]
  },
  {
   "cell_type": "code",
   "execution_count": 3,
   "metadata": {},
   "outputs": [
    {
     "name": "stdout",
     "output_type": "stream",
     "text": [
      "['start', 'line', 'line']\n"
     ]
    }
   ],
   "source": [
    "pattern = re.compile(r\"^start|^line\", flags=re.MULTILINE)\n",
    "result = pattern.findall(\"start of line\\nline 1\\nline 2\\nend of line\")\n",
    "print(result)"
   ]
  },
  {
   "cell_type": "code",
   "execution_count": 4,
   "metadata": {},
   "outputs": [
    {
     "name": "stdout",
     "output_type": "stream",
     "text": [
      "['pattern\\nmatch']\n"
     ]
    }
   ],
   "source": [
    "pattern = re.compile(r\"pattern.*match\", flags=re.DOTALL)\n",
    "result = pattern.findall(\"pattern\\nmatch\")\n",
    "print(result)"
   ]
  },
  {
   "cell_type": "code",
   "execution_count": 5,
   "metadata": {},
   "outputs": [
    {
     "name": "stdout",
     "output_type": "stream",
     "text": [
      "['123 abc', '456 DEF']\n"
     ]
    }
   ],
   "source": [
    "pattern = re.compile(r\"\"\"\n",
    "                     \\d+\n",
    "                     \\s+\n",
    "                     [a-zA-Z]+\n",
    "                     \"\"\", re.VERBOSE)\n",
    "result = pattern.findall(\"123 abc 456 DEF\")\n",
    "print(result)"
   ]
  },
  {
   "cell_type": "markdown",
   "metadata": {},
   "source": [
    "# Psuedocode"
   ]
  },
  {
   "cell_type": "code",
   "execution_count": null,
   "metadata": {},
   "outputs": [],
   "source": []
  },
  {
   "cell_type": "markdown",
   "metadata": {},
   "source": [
    "# Jagged or Crude Solutions"
   ]
  },
  {
   "cell_type": "code",
   "execution_count": 6,
   "metadata": {},
   "outputs": [
    {
     "name": "stdout",
     "output_type": "stream",
     "text": [
      "aeee\n"
     ]
    }
   ],
   "source": [
    "import re\n",
    "t = re.findall(r\"[QWRTYPSDFGHJKLZXCVBNMqwertyuiopasdfghjklzxcvbnm][AEIOUaeiou]{2,}(?=[QWRTYPSDFGHJKLZXCVBNMqwertyuiopasdfghjklzxcvbnm])\", input())\n",
    "if(t):\n",
    "    for i in t:\n",
    "        print(i[1:])\n",
    "else:\n",
    "    print(-1)"
   ]
  },
  {
   "cell_type": "code",
   "execution_count": 1,
   "metadata": {},
   "outputs": [
    {
     "name": "stdout",
     "output_type": "stream",
     "text": [
      "eef\n",
      "Ioom\n",
      "Oeor\n",
      "eeeeet\n"
     ]
    }
   ],
   "source": [
    "import re\n",
    "\n",
    "s = \"rabcdeefgyYhFjkIoomnpOeorteeeeet\" #input()\n",
    "v = \"aeiou\"\n",
    "c = \"qwrtypsdfghjklzxcvbnm\"\n",
    "l = re.findall(r\"(?<=[%s])([%s]{2,}[%s])\" %(c, v, c), s, flags=re.IGNORECASE)\n",
    "\n",
    "if not l:\n",
    "    print(-1)\n",
    "else:\n",
    "    for i in l:\n",
    "        print(i)"
   ]
  },
  {
   "cell_type": "markdown",
   "metadata": {},
   "source": [
    "# Refined Solutions"
   ]
  },
  {
   "cell_type": "code",
   "execution_count": null,
   "metadata": {},
   "outputs": [],
   "source": []
  },
  {
   "cell_type": "markdown",
   "metadata": {},
   "source": [
    "# Additional Practice"
   ]
  },
  {
   "cell_type": "code",
   "execution_count": null,
   "metadata": {},
   "outputs": [],
   "source": []
  }
 ],
 "metadata": {
  "kernelspec": {
   "display_name": "Python 3",
   "language": "python",
   "name": "python3"
  },
  "language_info": {
   "codemirror_mode": {
    "name": "ipython",
    "version": 3
   },
   "file_extension": ".py",
   "mimetype": "text/x-python",
   "name": "python",
   "nbconvert_exporter": "python",
   "pygments_lexer": "ipython3",
   "version": "3.10.12"
  }
 },
 "nbformat": 4,
 "nbformat_minor": 2
}
