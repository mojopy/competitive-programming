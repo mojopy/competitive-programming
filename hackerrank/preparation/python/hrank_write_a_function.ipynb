{
 "cells": [
  {
   "cell_type": "markdown",
   "id": "be862e48-99b1-4211-bd9f-d0f1817eca29",
   "metadata": {},
   "source": [
    "# Write a Fuction!\n",
    "## Pre Knowledge"
   ]
  },
  {
   "cell_type": "code",
   "execution_count": null,
   "id": "3919b188-f4bf-4bf1-9930-4614b634853e",
   "metadata": {},
   "outputs": [],
   "source": []
  },
  {
   "cell_type": "markdown",
   "id": "b754df6a-7d5b-47dc-b765-f11c13e8f0bf",
   "metadata": {},
   "source": [
    "## Psudocode"
   ]
  },
  {
   "cell_type": "code",
   "execution_count": null,
   "id": "7ba2083e-e424-4478-9a77-03c869392b90",
   "metadata": {},
   "outputs": [],
   "source": [
    "# input any given year\n"
   ]
  },
  {
   "cell_type": "markdown",
   "id": "d2d839dd-953d-464c-b3f6-a838c6e27830",
   "metadata": {},
   "source": [
    "# Jagged or Crude Solutions"
   ]
  },
  {
   "cell_type": "code",
   "execution_count": null,
   "id": "5307937b-f163-4c21-9227-996614b5edd4",
   "metadata": {},
   "outputs": [],
   "source": [
    "def is_leap(year):\n",
    "    leap = False\n",
    "    if year % 4 == 0:\n",
    "        if year % 100 == 0:\n",
    "            if year % 400 ==0:\n",
    "                leap = True\n",
    "\n",
    "        else:\n",
    "            leap = True\n",
    "    return leap"
   ]
  },
  {
   "cell_type": "markdown",
   "id": "74c04f5a-c8d6-4387-8601-1460065f41b6",
   "metadata": {},
   "source": [
    "# Refined Solutions"
   ]
  },
  {
   "cell_type": "code",
   "execution_count": null,
   "id": "5ecdedef-01f5-4498-85f0-eab9eb7d95b2",
   "metadata": {},
   "outputs": [],
   "source": []
  }
 ],
 "metadata": {
  "kernelspec": {
   "display_name": "Python 3 (ipykernel)",
   "language": "python",
   "name": "python3"
  },
  "language_info": {
   "codemirror_mode": {
    "name": "ipython",
    "version": 3
   },
   "file_extension": ".py",
   "mimetype": "text/x-python",
   "name": "python",
   "nbconvert_exporter": "python",
   "pygments_lexer": "ipython3",
   "version": "3.10.12"
  }
 },
 "nbformat": 4,
 "nbformat_minor": 5
}
