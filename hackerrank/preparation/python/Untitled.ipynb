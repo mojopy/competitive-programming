{
 "cells": [
  {
   "cell_type": "markdown",
   "id": "d6535cb1-3359-4ff4-84ad-05bd558a91bb",
   "metadata": {},
   "source": [
    "# Pre Knowledge"
   ]
  },
  {
   "cell_type": "code",
   "execution_count": null,
   "id": "23cc8aa4-e3e8-489b-9491-383dcbca62a4",
   "metadata": {},
   "outputs": [],
   "source": [
    "# touple "
   ]
  }
 ],
 "metadata": {
  "kernelspec": {
   "display_name": "Python 3 (ipykernel)",
   "language": "python",
   "name": "python3"
  },
  "language_info": {
   "codemirror_mode": {
    "name": "ipython",
    "version": 3
   },
   "file_extension": ".py",
   "mimetype": "text/x-python",
   "name": "python",
   "nbconvert_exporter": "python",
   "pygments_lexer": "ipython3",
   "version": "3.10.12"
  }
 },
 "nbformat": 4,
 "nbformat_minor": 5
}
