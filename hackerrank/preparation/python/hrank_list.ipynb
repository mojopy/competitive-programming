{
 "cells": [
  {
   "cell_type": "markdown",
   "id": "7761a4cd-b493-4240-802c-e26274d6a87c",
   "metadata": {},
   "source": [
    "# Pre Knowledge"
   ]
  },
  {
   "cell_type": "code",
   "execution_count": null,
   "id": "5a230d08-1113-4864-9946-d7c504f5196d",
   "metadata": {},
   "outputs": [],
   "source": [
    "# list\n",
    "alist = [4,2,3,4,5]\n",
    "print(alist)"
   ]
  },
  {
   "cell_type": "code",
   "execution_count": null,
   "id": "70fd2aae",
   "metadata": {},
   "outputs": [],
   "source": [
    "blist = [\n",
    "    [1,2,3],\n",
    "    [4,5,6],\n",
    "    [7,8,9]\n",
    "]\n",
    "\n",
    "print(blist[0])\n",
    "print(blist[1][2])\n",
    "\n",
    "blist[0].append(10)\n",
    "\n",
    "blist.append([11, 12, 13])\n",
    "\n",
    "print(blist)"
   ]
  },
  {
   "cell_type": "code",
   "execution_count": null,
   "id": "84e3e215",
   "metadata": {},
   "outputs": [],
   "source": [
    "blist = [\n",
    "    [\n",
    "        [1, 2, 3],\n",
    "        [4, 5, 6],\n",
    "        [7, 8, 9]\n",
    "    ],\n",
    "    [\n",
    "        [10, 11, 12],\n",
    "        [13, 14, 15],\n",
    "        [16, 17, 18]\n",
    "    ]\n",
    "]\n",
    "\n",
    "print(blist[0])\n",
    "print(blist[0][1][2])\n",
    "\n",
    "blist[0][0].append(10)\n",
    "blist[0].append([11, 12, 13])\n",
    "\n",
    "print(blist)\n"
   ]
  },
  {
   "cell_type": "markdown",
   "id": "3e3aa470-3bf4-4c94-ba5f-20cdfb2829dc",
   "metadata": {},
   "source": [
    "# Psudocode"
   ]
  },
  {
   "cell_type": "code",
   "execution_count": null,
   "id": "84a97aef-b741-4881-80fb-d9c079962a09",
   "metadata": {},
   "outputs": [],
   "source": [
    "# input number of commands n\n",
    "#loop through the n number of input\n",
    "# each line of the n subsequent lines"
   ]
  },
  {
   "cell_type": "markdown",
   "id": "67ad754b-4ae4-413b-b2cb-6722545ff77d",
   "metadata": {},
   "source": [
    "# Jagged or Crude Solutions"
   ]
  },
  {
   "cell_type": "code",
   "execution_count": 7,
   "id": "11f0aea3-afc9-4847-adcb-2e05f2997270",
   "metadata": {},
   "outputs": [],
   "source": [
    "if __name__ == '__main__':\n",
    "    N = int(input())\n",
    "    my_list = []\n",
    "    \n",
    "    for i in range(N):\n",
    "        user_input = input().split()\n",
    "\n",
    "        if user_input[0] == 'insert':\n",
    "            my_list.insert(int(user_input[1]), int(user_input[2]))\n",
    "        elif user_input[0] == 'print':\n",
    "            print(my_list)\n",
    "        elif user_input[0] == 'remove':\n",
    "            my_list.remove(int(user_input[1]))\n",
    "        elif user_input[0] == 'append':\n",
    "            my_list.append(int(user_input[1]))\n",
    "        elif user_input[0] == 'sort':\n",
    "            my_list.sort()\n",
    "        elif user_input[0] == 'pop':\n",
    "            my_list.pop()\n",
    "        elif user_input[0] == 'reverse':\n",
    "            my_list.reverse()"
   ]
  },
  {
   "cell_type": "markdown",
   "id": "6d0d2720-7f34-4e45-9f0b-b792304cc70f",
   "metadata": {},
   "source": [
    "# Refined Solutions"
   ]
  },
  {
   "cell_type": "markdown",
   "id": "e7e47dfc-1282-4d80-ad8d-a46473c777fd",
   "metadata": {},
   "source": [
    "# Additional "
   ]
  }
 ],
 "metadata": {
  "kernelspec": {
   "display_name": "Python 3 (ipykernel)",
   "language": "python",
   "name": "python3"
  },
  "language_info": {
   "codemirror_mode": {
    "name": "ipython",
    "version": 3
   },
   "file_extension": ".py",
   "mimetype": "text/x-python",
   "name": "python",
   "nbconvert_exporter": "python",
   "pygments_lexer": "ipython3",
   "version": "3.10.12"
  }
 },
 "nbformat": 4,
 "nbformat_minor": 5
}
