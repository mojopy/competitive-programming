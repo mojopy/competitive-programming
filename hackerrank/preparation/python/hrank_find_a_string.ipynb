{
 "cells": [
  {
   "cell_type": "markdown",
   "id": "286076b9-da58-4a3a-acc4-70d4d9691319",
   "metadata": {},
   "source": [
    "# Pre Knowledge"
   ]
  },
  {
   "cell_type": "code",
   "execution_count": null,
   "id": "ff5c4542-6e0f-4993-b448-7757466e6fb1",
   "metadata": {},
   "outputs": [],
   "source": [
    "# "
   ]
  },
  {
   "cell_type": "markdown",
   "id": "9f17bda3-52bb-4d7f-8a39-9b11c6fc9be3",
   "metadata": {},
   "source": [
    "# Psudocode"
   ]
  },
  {
   "cell_type": "code",
   "execution_count": null,
   "id": "6994441a-c0d3-42bc-a04c-66314a197491",
   "metadata": {},
   "outputs": [],
   "source": [
    "# string input\n",
    "# substring input\n",
    "\n",
    "#storing the into a variable\n",
    "\n",
    "# "
   ]
  },
  {
   "cell_type": "markdown",
   "id": "b061c8f0-0db9-4b1b-a6ee-a57c9b0d4e57",
   "metadata": {},
   "source": [
    "# Jagged or Cruked Solutions"
   ]
  },
  {
   "cell_type": "code",
   "execution_count": null,
   "id": "e3df5ff7-3acc-4388-beac-847e15fd05bc",
   "metadata": {},
   "outputs": [],
   "source": [
    "def count_substring(string, sub_string):\n",
    "    counter = 0\n",
    "    sl = len(sub_string)\n",
    "\n",
    "    for i in range(len(string)):\n",
    "        s =string[i:i+sl]\n",
    "        if s == sub_string:\n",
    "            counter += 1\n",
    "\n",
    "    return counter\n",
    "\n",
    "if __name__ == '__main__':\n",
    "    string = input().strip()\n",
    "    sub_string = input().strip()\n",
    "\n",
    "    count = count_substring(string, sub_string)\n",
    "    print(count)"
   ]
  },
  {
   "cell_type": "markdown",
   "id": "61792df2-a9d8-4c42-ac07-fe850f81ed8e",
   "metadata": {},
   "source": [
    "# Refined Solutions"
   ]
  },
  {
   "cell_type": "code",
   "execution_count": null,
   "id": "0d4f5444-9f75-450a-a29a-03d94e961784",
   "metadata": {},
   "outputs": [],
   "source": [
    "def count_substring(string, sub_string):\n",
    "    start = 0\n",
    "    end = len(sub_string)\n",
    "\n",
    "    counter = 0\n",
    "    \n",
    "    while end <= len(string):\n",
    "        if sub_string == string[start:end]:\n",
    "            counter += 1\n",
    "        start += 1\n",
    "        end += 1\n",
    "    return counter\n",
    "\n",
    "\n",
    "if __name__ == '__main__':\n",
    "    string = input().strip()\n",
    "    sub_string = input().strip()\n",
    "\n",
    "    count = count_substring(string, sub_string)\n",
    "    print(count)"
   ]
  },
  {
   "cell_type": "code",
   "execution_count": null,
   "id": "9890026c-a1b2-4f9f-9557-d62ee4dfdcfb",
   "metadata": {},
   "outputs": [],
   "source": []
  }
 ],
 "metadata": {
  "kernelspec": {
   "display_name": "Python 3 (ipykernel)",
   "language": "python",
   "name": "python3"
  },
  "language_info": {
   "codemirror_mode": {
    "name": "ipython",
    "version": 3
   },
   "file_extension": ".py",
   "mimetype": "text/x-python",
   "name": "python",
   "nbconvert_exporter": "python",
   "pygments_lexer": "ipython3",
   "version": "3.10.12"
  }
 },
 "nbformat": 4,
 "nbformat_minor": 5
}
