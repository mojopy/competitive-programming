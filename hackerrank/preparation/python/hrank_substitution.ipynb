{
 "cells": [
  {
   "cell_type": "markdown",
   "metadata": {},
   "source": [
    "# Pre Knowledge"
   ]
  },
  {
   "cell_type": "code",
   "execution_count": 5,
   "metadata": {},
   "outputs": [],
   "source": [
    "import re"
   ]
  },
  {
   "cell_type": "code",
   "execution_count": 1,
   "metadata": {},
   "outputs": [
    {
     "name": "stdout",
     "output_type": "stream",
     "text": [
      "30\n"
     ]
    }
   ],
   "source": [
    "def add(x,y):\n",
    "    return x+y\n",
    "print(add(10,20))\n",
    "\n"
   ]
  },
  {
   "cell_type": "code",
   "execution_count": 2,
   "metadata": {},
   "outputs": [
    {
     "name": "stdout",
     "output_type": "stream",
     "text": [
      "3\n"
     ]
    }
   ],
   "source": [
    "print((lambda x,y: x+y)(1,2))"
   ]
  },
  {
   "cell_type": "code",
   "execution_count": 3,
   "metadata": {},
   "outputs": [
    {
     "name": "stdout",
     "output_type": "stream",
     "text": [
      "3\n"
     ]
    }
   ],
   "source": [
    "add = lambda x,y: x+y\n",
    "print(add(1,2))"
   ]
  },
  {
   "cell_type": "code",
   "execution_count": 4,
   "metadata": {},
   "outputs": [
    {
     "name": "stdout",
     "output_type": "stream",
     "text": [
      "[1, 8, 27, 64, 125]\n"
     ]
    }
   ],
   "source": [
    "def my_map(my_func, my_iter):\n",
    "    result = []\n",
    "    for item in my_iter:\n",
    "        new_item = my_func(item)\n",
    "        result.append(new_item)\n",
    "    return result\n",
    "nums = [1, 2, 3, 4, 5]\n",
    "\n",
    "cubed = my_map(lambda x: x**3, nums)    \n",
    "print(cubed)"
   ]
  },
  {
   "cell_type": "code",
   "execution_count": null,
   "metadata": {},
   "outputs": [],
   "source": []
  },
  {
   "cell_type": "code",
   "execution_count": 6,
   "metadata": {},
   "outputs": [
    {
     "name": "stdout",
     "output_type": "stream",
     "text": [
      "1 4 9 16 25\n"
     ]
    }
   ],
   "source": [
    "# Squering numbers\n",
    "def square(match):\n",
    "    number = int(match.group(0))\n",
    "    return str(number **2)\n",
    "\n",
    "print(re.sub(r\"\\d+\", square, \"1 2 3 4 5\"))"
   ]
  },
  {
   "cell_type": "code",
   "execution_count": 8,
   "metadata": {},
   "outputs": [
    {
     "name": "stdout",
     "output_type": "stream",
     "text": [
      "\n",
      "<head>\n",
      "<title>HTML</title>\n",
      "</head>\n",
      "<object type=\"application/x-flash\" \n",
      "  data=\"your-file.swf\" \n",
      "  width=\"0\" height=\"0\">\n",
      "  \n",
      "  <param name=\"quality\" value=\"high\"/>\n",
      "</object>\n",
      "\n"
     ]
    }
   ],
   "source": [
    "html = \"\"\"\n",
    "<head>\n",
    "<title>HTML</title>\n",
    "</head>\n",
    "<object type=\"application/x-flash\" \n",
    "  data=\"your-file.swf\" \n",
    "  width=\"0\" height=\"0\">\n",
    "  <!-- <param name=\"movie\"  value=\"your-file.swf\" /> -->\n",
    "  <param name=\"quality\" value=\"high\"/>\n",
    "</object>\n",
    "\"\"\"\n",
    "\n",
    "print(re.sub(\"(<!--.*?-->)\", \"\", html)) #remove comment"
   ]
  },
  {
   "cell_type": "markdown",
   "metadata": {},
   "source": [
    "# Psuedocode"
   ]
  },
  {
   "cell_type": "code",
   "execution_count": null,
   "metadata": {},
   "outputs": [],
   "source": []
  },
  {
   "cell_type": "markdown",
   "metadata": {},
   "source": [
    "# Jagged or Crude Solutions"
   ]
  },
  {
   "cell_type": "code",
   "execution_count": null,
   "metadata": {},
   "outputs": [],
   "source": [
    "import re\n",
    "\n",
    "pattern = r\"(?<= )(&&|\\|\\|)(?= )\"\n",
    "\n",
    "replacement = lambda x: \"and\" if x.group() == \"&&\" else \"or\"\n",
    "\n",
    "for i in range(int(input())):\n",
    "    s = input()\n",
    "    print(re.sub(pattern, replacement, s))"
   ]
  },
  {
   "cell_type": "code",
   "execution_count": null,
   "metadata": {},
   "outputs": [],
   "source": [
    "import re\n",
    "if __name__ == '__main__':\n",
    "    n = int(input())\n",
    "    def detect(match):\n",
    "        if match.group() == \"&&\":\n",
    "            return \"and\"\n",
    "        elif match.group() == \"||\":\n",
    "            return \"or\"\n",
    "    for i in range(n):\n",
    "        s = input()\n",
    "        print(re.sub(r\"(?<= )(&&|\\|\\|)(?= )\", detect, s))"
   ]
  },
  {
   "cell_type": "markdown",
   "metadata": {},
   "source": [
    "# Refined Solutions"
   ]
  },
  {
   "cell_type": "code",
   "execution_count": null,
   "metadata": {},
   "outputs": [],
   "source": []
  },
  {
   "cell_type": "markdown",
   "metadata": {},
   "source": [
    "# Additional Practice"
   ]
  },
  {
   "cell_type": "code",
   "execution_count": null,
   "metadata": {},
   "outputs": [],
   "source": []
  }
 ],
 "metadata": {
  "kernelspec": {
   "display_name": "Python 3",
   "language": "python",
   "name": "python3"
  },
  "language_info": {
   "codemirror_mode": {
    "name": "ipython",
    "version": 3
   },
   "file_extension": ".py",
   "mimetype": "text/x-python",
   "name": "python",
   "nbconvert_exporter": "python",
   "pygments_lexer": "ipython3",
   "version": "3.10.12"
  }
 },
 "nbformat": 4,
 "nbformat_minor": 2
}
