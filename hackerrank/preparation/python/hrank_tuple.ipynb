{
 "cells": [
  {
   "cell_type": "markdown",
   "id": "3aa6c580-d982-4c07-a7d7-a8cd65e90f92",
   "metadata": {},
   "source": [
    "# Pre Knowledge"
   ]
  },
  {
   "cell_type": "code",
   "execution_count": null,
   "id": "8bfb2f75-a4a5-4509-af12-9c6694bcced4",
   "metadata": {},
   "outputs": [],
   "source": [
    "# hash()\n",
    "# tuple"
   ]
  },
  {
   "cell_type": "markdown",
   "id": "58a920e2-dc4e-4240-8b0c-4d6229379424",
   "metadata": {},
   "source": [
    "# Psuedocode"
   ]
  },
  {
   "cell_type": "code",
   "execution_count": 1,
   "id": "aa28de4e-18bb-41ea-9b65-bcc29e6dd745",
   "metadata": {},
   "outputs": [],
   "source": [
    "# Convert a list into a tuple\n",
    "# and Print the hash of that tuple"
   ]
  },
  {
   "cell_type": "markdown",
   "id": "c8046c98-e730-4606-ae0c-b6377837bb26",
   "metadata": {},
   "source": [
    "# Jagged or Crude Solutions"
   ]
  },
  {
   "cell_type": "code",
   "execution_count": 5,
   "id": "2e12881a-d3c2-4719-bbf5-73d96b178db2",
   "metadata": {},
   "outputs": [
    {
     "name": "stdin",
     "output_type": "stream",
     "text": [
      " 2\n",
      " 2 3 4\n"
     ]
    },
    {
     "name": "stdout",
     "output_type": "stream",
     "text": [
      "(2, 3, 4)\n",
      "-3165226637586315787\n"
     ]
    }
   ],
   "source": [
    "if __name__ == '__main__':\n",
    "    n = int(input())\n",
    "    integer_list = map(int, input().split())\n",
    "    integer_tuple = tuple(integer_list)\n",
    "    print(integer_tuple)\n",
    "    print(hash(integer_tuple))"
   ]
  },
  {
   "cell_type": "code",
   "execution_count": null,
   "id": "8120620f-0de6-4b28-89f7-78768041e808",
   "metadata": {},
   "outputs": [],
   "source": []
  }
 ],
 "metadata": {
  "kernelspec": {
   "display_name": "Python 3 (ipykernel)",
   "language": "python",
   "name": "python3"
  },
  "language_info": {
   "codemirror_mode": {
    "name": "ipython",
    "version": 3
   },
   "file_extension": ".py",
   "mimetype": "text/x-python",
   "name": "python",
   "nbconvert_exporter": "python",
   "pygments_lexer": "ipython3",
   "version": "3.10.12"
  }
 },
 "nbformat": 4,
 "nbformat_minor": 5
}
