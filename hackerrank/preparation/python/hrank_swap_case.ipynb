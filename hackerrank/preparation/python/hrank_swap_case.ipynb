{
 "cells": [
  {
   "cell_type": "markdown",
   "id": "3aa6c580-d982-4c07-a7d7-a8cd65e90f92",
   "metadata": {},
   "source": [
    "# Pre Knowledge"
   ]
  },
  {
   "cell_type": "code",
   "execution_count": null,
   "id": "8bfb2f75-a4a5-4509-af12-9c6694bcced4",
   "metadata": {},
   "outputs": [],
   "source": []
  },
  {
   "cell_type": "markdown",
   "id": "58a920e2-dc4e-4240-8b0c-4d6229379424",
   "metadata": {},
   "source": [
    "# Psuedocode"
   ]
  },
  {
   "cell_type": "code",
   "execution_count": null,
   "id": "aa28de4e-18bb-41ea-9b65-bcc29e6dd745",
   "metadata": {},
   "outputs": [],
   "source": []
  },
  {
   "cell_type": "markdown",
   "id": "c8046c98-e730-4606-ae0c-b6377837bb26",
   "metadata": {},
   "source": [
    "# Jagged or Crude Solutions"
   ]
  },
  {
   "cell_type": "code",
   "execution_count": 2,
   "id": "2e12881a-d3c2-4719-bbf5-73d96b178db2",
   "metadata": {},
   "outputs": [
    {
     "name": "stdin",
     "output_type": "stream",
     "text": [
      " sHobuJ\n"
     ]
    },
    {
     "name": "stdout",
     "output_type": "stream",
     "text": [
      "ShOBUj\n"
     ]
    }
   ],
   "source": [
    "def swap_case(s):\n",
    "    new_s = []\n",
    "\n",
    "    for item in s:\n",
    "        if item.isalpha():\n",
    "            if item.islower():\n",
    "                new_s.append(item.upper())\n",
    "            else:\n",
    "                new_s.append(item.lower())\n",
    "        else:\n",
    "            new_s.append(item)\n",
    "    return ''.join(new_s)\n",
    "    \n",
    "\n",
    "if __name__ == '__main__':\n",
    "    s = input()\n",
    "    result = swap_case(s)\n",
    "    print(result)"
   ]
  },
  {
   "cell_type": "code",
   "execution_count": null,
   "id": "8120620f-0de6-4b28-89f7-78768041e808",
   "metadata": {},
   "outputs": [],
   "source": []
  }
 ],
 "metadata": {
  "kernelspec": {
   "display_name": "Python 3 (ipykernel)",
   "language": "python",
   "name": "python3"
  },
  "language_info": {
   "codemirror_mode": {
    "name": "ipython",
    "version": 3
   },
   "file_extension": ".py",
   "mimetype": "text/x-python",
   "name": "python",
   "nbconvert_exporter": "python",
   "pygments_lexer": "ipython3",
   "version": "3.10.12"
  }
 },
 "nbformat": 4,
 "nbformat_minor": 5
}
