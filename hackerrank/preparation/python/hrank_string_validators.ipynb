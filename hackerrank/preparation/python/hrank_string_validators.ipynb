{
 "cells": [
  {
   "cell_type": "markdown",
   "id": "a677827f-1177-4c93-a48f-5a90aa64386e",
   "metadata": {},
   "source": [
    "# Pre Knowledge"
   ]
  },
  {
   "cell_type": "code",
   "execution_count": null,
   "id": "34fd8f9b-d836-4919-85e8-9689debb9e02",
   "metadata": {},
   "outputs": [],
   "source": [
    "# any function "
   ]
  },
  {
   "cell_type": "markdown",
   "id": "5aecea65-9458-4e74-b76d-e89dcf0e358b",
   "metadata": {},
   "source": [
    "# Jagged or Crude"
   ]
  },
  {
   "cell_type": "code",
   "execution_count": null,
   "id": "5eaf7874-fb49-46f5-a8e3-3fa6b9c5a351",
   "metadata": {},
   "outputs": [],
   "source": [
    "if __name__ == '__main__':\n",
    "    s = 'qA2'\n",
    "    print(any(item.isalnum() for item in s))\n",
    "    print(any(item.isalpha() for item in s))\n",
    "    print(any(item.isdigit() for item in s))\n",
    "    print(any(item.islower() for item in s))\n",
    "    print(any(item.isupper() for item in s))\n",
    "    "
   ]
  },
  {
   "cell_type": "markdown",
   "id": "eff9d767-3603-43d3-8e15-70fc3efb4fe7",
   "metadata": {},
   "source": [
    "# "
   ]
  }
 ],
 "metadata": {
  "kernelspec": {
   "display_name": "Python 3 (ipykernel)",
   "language": "python",
   "name": "python3"
  },
  "language_info": {
   "codemirror_mode": {
    "name": "ipython",
    "version": 3
   },
   "file_extension": ".py",
   "mimetype": "text/x-python",
   "name": "python",
   "nbconvert_exporter": "python",
   "pygments_lexer": "ipython3",
   "version": "3.10.12"
  }
 },
 "nbformat": 4,
 "nbformat_minor": 5
}
