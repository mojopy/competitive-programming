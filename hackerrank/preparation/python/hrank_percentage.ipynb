{
 "cells": [
  {
   "cell_type": "markdown",
   "id": "7761a4cd-b493-4240-802c-e26274d6a87c",
   "metadata": {},
   "source": [
    "# Pre Knowledge"
   ]
  },
  {
   "cell_type": "code",
   "execution_count": null,
   "id": "38a68dfe-61e1-41cb-bc62-dc06f788d63a",
   "metadata": {},
   "outputs": [],
   "source": [
    "# using multiple assignment in input\n",
    "input_str = \"John Doe 25\"\n",
    "name, *line = input_str.split()\n",
    "\n",
    "print(\"Name:\", name)\n",
    "print(\"Line:\", line)"
   ]
  },
  {
   "cell_type": "code",
   "execution_count": null,
   "id": "395dc730-c122-415e-894c-92886e39aac1",
   "metadata": {},
   "outputs": [],
   "source": [
    "first, *last"
   ]
  },
  {
   "cell_type": "code",
   "execution_count": null,
   "id": "61818d4d-d979-473a-8835-4565055e3915",
   "metadata": {},
   "outputs": [],
   "source": [
    "#list as argument\n",
    "def myl_function(num):\n",
    "    for item in num:\n",
    "        print(item)\n",
    "\n",
    "x = [1,2,3,4,5]\n",
    "myl_function(x)"
   ]
  },
  {
   "cell_type": "code",
   "execution_count": null,
   "id": "60b0e48f-b51d-46ac-89e1-ce0f4d4c57b5",
   "metadata": {},
   "outputs": [],
   "source": [
    "# map function\n",
    "def make_even(num):\n",
    "    return_list = []\n",
    "    for item in num:\n",
    "        if item%2 == 1:\n",
    "            return_list.append(item+1)\n",
    "        else:\n",
    "            return_list.append(item)\n",
    "    return return_list\n",
    "x = [2,3,4,5,6]\n",
    "make_even(x)"
   ]
  },
  {
   "cell_type": "code",
   "execution_count": null,
   "id": "9e562b7d-65dc-4646-8ce0-cc839aefbcc5",
   "metadata": {},
   "outputs": [],
   "source": [
    "def make_even(num):\n",
    "    if num%2 == 1:\n",
    "        return num+1\n",
    "    else:\n",
    "        return num\n",
    "\n",
    "x = [1,2,3,4,5]\n",
    "y = []\n",
    "for num in x:\n",
    "    y.append(make_even(num))\n",
    "print(y)"
   ]
  },
  {
   "cell_type": "code",
   "execution_count": null,
   "id": "f54cca66-8e97-41c4-b98c-25ea83979d53",
   "metadata": {},
   "outputs": [],
   "source": [
    "def make_even(num):\n",
    "    if num%2 == 1:\n",
    "        return num+1\n",
    "    else:\n",
    "        return num\n",
    "\n",
    "x = [1,2,3,4,5]\n",
    "y = [make_even(num) for num in x]\n",
    "print(y)"
   ]
  },
  {
   "cell_type": "code",
   "execution_count": null,
   "id": "f6125909-11e2-4abd-85d5-e293cb3af135",
   "metadata": {},
   "outputs": [],
   "source": [
    "# map function\n",
    "def make_even(num):\n",
    "    if num%2 == 1:\n",
    "        return num+1\n",
    "    else:\n",
    "        return num\n",
    "\n",
    "x = [1,2,3,4,5]\n",
    "y = list(map(make_even, x))\n",
    "print(y)\n"
   ]
  },
  {
   "cell_type": "code",
   "execution_count": null,
   "id": "d3ab81d4-3e71-47ef-8d1a-44cd2073fe0c",
   "metadata": {},
   "outputs": [],
   "source": [
    "# Dictionary\n",
    "student = {'name': 'John', 'age':25, 'courses': ['Math', 'CompSci']}\n",
    "print(student['name'])\n",
    "\n",
    "print(student.get('phone'))\n",
    "print(student.get('hello', \"Not found\"))\n",
    "student.update({'name':'Sabuj', 'age':24})\n",
    "\n",
    "print(student)"
   ]
  },
  {
   "cell_type": "code",
   "execution_count": null,
   "id": "68b72173-d3da-42aa-9aad-f445b86e3031",
   "metadata": {},
   "outputs": [],
   "source": [
    "student = {'name': 'John Doe', 'age': 20, 'grade': 'A', 'courses': ['Math', 'English', 'Science']}\n",
    "\n",
    "for key in student:\n",
    "    print(key, student[key])\n",
    " "
   ]
  },
  {
   "cell_type": "code",
   "execution_count": null,
   "id": "4b87d3db-33d1-4bd0-957f-f0cd5126acbd",
   "metadata": {},
   "outputs": [],
   "source": [
    "student = {'name': 'John Doe', 'age': 20, 'grade': 'A', 'courses': ['Math', 'English', 'Science']}\n",
    "\n",
    "for key, value in student.items():\n",
    "    print(key, value)\n"
   ]
  },
  {
   "cell_type": "code",
   "execution_count": null,
   "id": "7095dfd8-2dc7-4354-a2f3-1df5e15794e3",
   "metadata": {},
   "outputs": [],
   "source": [
    "student = {'name': 'John Doe', 'age': 20, 'grade': 'A', 'courses': ['Math', 'English', 'Science']}\n",
    "\n",
    "for value in student.values():\n",
    "    print(value)\n"
   ]
  },
  {
   "cell_type": "code",
   "execution_count": null,
   "id": "2005b86f-4153-43aa-bd26-6e687560b958",
   "metadata": {},
   "outputs": [],
   "source": [
    "student = {'name': 'John Doe', 'age': 20, 'grade': 'A', 'courses': ['Math', 'English', 'Science']}\n",
    "\n",
    "for key in student.keys():\n",
    "    print(key, student[key])\n"
   ]
  },
  {
   "cell_type": "markdown",
   "id": "3e3aa470-3bf4-4c94-ba5f-20cdfb2829dc",
   "metadata": {},
   "source": [
    "# Psudocode"
   ]
  },
  {
   "cell_type": "markdown",
   "id": "67ad754b-4ae4-413b-b2cb-6722545ff77d",
   "metadata": {},
   "source": [
    "# Jagged or Crude Solutions"
   ]
  },
  {
   "cell_type": "markdown",
   "id": "6d0d2720-7f34-4e45-9f0b-b792304cc70f",
   "metadata": {},
   "source": [
    "# Refined Solutions"
   ]
  },
  {
   "cell_type": "code",
   "execution_count": null,
   "id": "41011895-22ae-4668-b75b-2fb1befe741e",
   "metadata": {},
   "outputs": [],
   "source": [
    "def student_average(student_marks, query_name):\n",
    "  for key, value in student_marks.items():\n",
    "    if key== query_name:\n",
    "      average_score = sum(value)/len(value)\n",
    "\n",
    "  print('{:.2f}'.format(average_score))\n",
    "\n",
    "\n",
    "if __name__ == '__main__':\n",
    "    n = int(input())\n",
    "    student_marks = {}\n",
    "    for _ in range(n):\n",
    "        name, *line = input().split()\n",
    "        scores = list(map(float, line))\n",
    "        student_marks[name] = scores\n",
    "    query_name = input()\n",
    "    student_average(student_marks, query_name) "
   ]
  },
  {
   "cell_type": "code",
   "execution_count": null,
   "id": "cfa52928-685b-437c-a17a-74dd3d24e31d",
   "metadata": {},
   "outputs": [],
   "source": [
    "if __name__ == '__main__':\n",
    "    n = int(input())\n",
    "    student_marks = []\n",
    "    for _ in range(n):\n",
    "        name, *line = input().split()\n",
    "    "
   ]
  },
  {
   "cell_type": "markdown",
   "id": "e7e47dfc-1282-4d80-ad8d-a46473c777fd",
   "metadata": {},
   "source": [
    "# Additional "
   ]
  }
 ],
 "metadata": {
  "kernelspec": {
   "display_name": "Python 3 (ipykernel)",
   "language": "python",
   "name": "python3"
  },
  "language_info": {
   "codemirror_mode": {
    "name": "ipython",
    "version": 3
   },
   "file_extension": ".py",
   "mimetype": "text/x-python",
   "name": "python",
   "nbconvert_exporter": "python",
   "pygments_lexer": "ipython3",
   "version": "3.10.12"
  }
 },
 "nbformat": 4,
 "nbformat_minor": 5
}
