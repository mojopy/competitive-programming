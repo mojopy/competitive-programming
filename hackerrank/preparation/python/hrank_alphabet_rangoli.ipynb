{
 "cells": [
  {
   "cell_type": "markdown",
   "metadata": {},
   "source": [
    "# Pre Knowledge"
   ]
  },
  {
   "cell_type": "code",
   "execution_count": null,
   "metadata": {},
   "outputs": [],
   "source": [
    "size = 2\n",
    "alphabet = \"abcdefghijklmnopqrstuvwxyz\"\n",
    "alphabet = list(alphabet)\n",
    "alphabet = alphabet[:size]\n",
    "\n",
    "print(alphabet)\n",
    "\n",
    "for i in range(size+1):\n",
    "    print(alphabet[:i])\n",
    "\n"
   ]
  },
  {
   "cell_type": "code",
   "execution_count": null,
   "metadata": {},
   "outputs": [],
   "source": [
    "size = 3\n",
    "alpha = [chr(i) for i in range(97,123)]\n",
    "alpha = alpha[:size]\n",
    "print(alpha[-2:])"
   ]
  },
  {
   "cell_type": "code",
   "execution_count": null,
   "metadata": {},
   "outputs": [],
   "source": [
    "print(chr(124))"
   ]
  },
  {
   "cell_type": "code",
   "execution_count": null,
   "metadata": {},
   "outputs": [],
   "source": [
    "alphabet = alphabet[:size]\n",
    "#alphabet = alphabet[:-1] + alphabet[::-1]\n",
    "print(alphabet)\n",
    "alphabet = alphabet[::-1] + alphabet[1:]\n",
    "print(alphabet)"
   ]
  },
  {
   "cell_type": "code",
   "execution_count": null,
   "metadata": {},
   "outputs": [],
   "source": [
    "size = 5\n",
    "alphabet2 = [chr(i) for i in range(97, 123)]\n",
    "for i in range(size):\n",
    "    print(alphabet2[i], end=\"\")\n"
   ]
  },
  {
   "cell_type": "code",
   "execution_count": null,
   "metadata": {},
   "outputs": [],
   "source": []
  },
  {
   "cell_type": "code",
   "execution_count": null,
   "metadata": {},
   "outputs": [],
   "source": [
    "indices = list(range(size))\n",
    "indices = indices[:-1] + indices[::-1]\n",
    "print(indices)"
   ]
  },
  {
   "cell_type": "code",
   "execution_count": null,
   "metadata": {},
   "outputs": [],
   "source": [
    "for i in indices:\n",
    "    start_index = i +1\n",
    "    original = alphabet[-start_index:]\n",
    "    reversed = original[::-1]\n",
    "    row = original + reversed[1:]\n",
    "    row = '-'.join(row)\n",
    "    width = size * 4 - 3\n",
    "    row = row.center(width,'-')\n",
    "    print(row)\n",
    "    \n"
   ]
  },
  {
   "cell_type": "markdown",
   "metadata": {},
   "source": [
    "# Psuedocode"
   ]
  },
  {
   "cell_type": "code",
   "execution_count": null,
   "metadata": {},
   "outputs": [],
   "source": []
  },
  {
   "cell_type": "markdown",
   "metadata": {},
   "source": [
    "# Jagged or Crude Solutions"
   ]
  },
  {
   "cell_type": "code",
   "execution_count": null,
   "metadata": {},
   "outputs": [],
   "source": [
    "def print_rangoli(size):\n",
    "    alphabet = [chr(i) for i in range(97, 123)]\n",
    "    alphabet = alphabet[:size]\n",
    "    indices = list(range(size))\n",
    "    indices = indices[:-1] + indices[::-1]\n",
    "    for i in indices:\n",
    "        start_index = i + 1\n",
    "        original = alphabet[-start_index:]\n",
    "        reverse = original[::-1]\n",
    "        row = reverse + original[1:]\n",
    "        row = '-'.join(row)\n",
    "        width = size * 4 - 3\n",
    "        row = row.center(width, '-')\n",
    "        print(row)\n",
    "\n",
    "if __name__ == '__main__':\n",
    "    n = int(input())\n",
    "    print_rangoli(n)"
   ]
  },
  {
   "cell_type": "code",
   "execution_count": null,
   "metadata": {},
   "outputs": [],
   "source": [
    "class RangoliPrinter:\n",
    "    def __init__(self, size):\n",
    "        self.size = size\n",
    "        self.alphabet = list(\"abcdefghijklmnopqrstuvwxyz\")\n",
    "        self.alphabet = self.alphabet[:size]\n",
    "        self.looplist = list(range(size))\n",
    "        self.looplist = self.looplist[:-1] + self.looplist[::-1]\n",
    "\n",
    "    def print_rangoli(self):\n",
    "        for i in self.looplist:\n",
    "            st = i + 1\n",
    "            right = self.alphabet[-st:]\n",
    "            left = right[::-1]\n",
    "            row = left + right[1:]\n",
    "            row = '-'.join(row)\n",
    "            width = self.size * 4 - 3\n",
    "            row = row.center(width, '-')\n",
    "            print(row)\n",
    "\n",
    "if __name__ == '__main__':\n",
    "    n = int(input(\"Enter the size: \"))\n",
    "    rangoli_printer = RangoliPrinter(n)\n",
    "    rangoli_printer.print_rangoli()\n"
   ]
  },
  {
   "cell_type": "markdown",
   "metadata": {},
   "source": [
    "# Refined Solutions"
   ]
  },
  {
   "cell_type": "code",
   "execution_count": null,
   "metadata": {},
   "outputs": [],
   "source": []
  },
  {
   "cell_type": "markdown",
   "metadata": {},
   "source": [
    "# Additional Practice"
   ]
  },
  {
   "cell_type": "code",
   "execution_count": null,
   "metadata": {},
   "outputs": [],
   "source": []
  }
 ],
 "metadata": {
  "kernelspec": {
   "display_name": "Python 3",
   "language": "python",
   "name": "python3"
  },
  "language_info": {
   "codemirror_mode": {
    "name": "ipython",
    "version": 3
   },
   "file_extension": ".py",
   "mimetype": "text/x-python",
   "name": "python",
   "nbconvert_exporter": "python",
   "pygments_lexer": "ipython3",
   "version": "3.10.12"
  }
 },
 "nbformat": 4,
 "nbformat_minor": 2
}
