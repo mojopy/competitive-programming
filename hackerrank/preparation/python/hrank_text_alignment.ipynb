{
 "cells": [
  {
   "cell_type": "markdown",
   "id": "469c3805-db3c-460c-a8fa-33c480f76422",
   "metadata": {},
   "source": [
    "# Pre Knowledge"
   ]
  },
  {
   "cell_type": "code",
   "execution_count": null,
   "id": "7a32395e-d4c4-4a12-bc3b-600f340a5dea",
   "metadata": {},
   "outputs": [],
   "source": [
    "'H'.center(9)"
   ]
  },
  {
   "cell_type": "code",
   "execution_count": null,
   "id": "67aead52",
   "metadata": {},
   "outputs": [],
   "source": []
  },
  {
   "cell_type": "markdown",
   "id": "4483b73c-286e-4370-8c89-1540fb2796bc",
   "metadata": {},
   "source": [
    "# Psuedocode"
   ]
  },
  {
   "cell_type": "markdown",
   "id": "44768cbb-0ee5-49e5-8390-db3e5f0b16c0",
   "metadata": {},
   "source": [
    "# Jagged or Crude Solutions"
   ]
  },
  {
   "cell_type": "code",
   "execution_count": 4,
   "id": "747904d3-6f77-4f40-845c-80d3545d9fa9",
   "metadata": {},
   "outputs": [
    {
     "name": "stdout",
     "output_type": "stream",
     "text": [
      "        H        \n",
      "       HHH       \n",
      "      HHHHH      \n",
      "     HHHHHHH     \n",
      "    HHHHHHHHH    \n",
      "   HHHHHHHHHHH   \n",
      "  HHHHHHHHHHHHH  \n",
      " HHHHHHHHHHHHHHH \n",
      "HHHHHHHHHHHHHHHHH\n",
      "    HHHHHHHHH                           HHHHHHHHH                       \n",
      "    HHHHHHHHH                           HHHHHHHHH                       \n",
      "    HHHHHHHHH                           HHHHHHHHH                       \n",
      "    HHHHHHHHH                           HHHHHHHHH                       \n",
      "    HHHHHHHHH                           HHHHHHHHH                       \n",
      "    HHHHHHHHH                           HHHHHHHHH                       \n",
      "    HHHHHHHHH                           HHHHHHHHH                       \n",
      "    HHHHHHHHH                           HHHHHHHHH                       \n",
      "    HHHHHHHHH                           HHHHHHHHH                       \n",
      "    HHHHHHHHH                           HHHHHHHHH                       \n",
      "    HHHHHHHHHHHHHHHHHHHHHHHHHHHHHHHHHHHHHHHHHHHHH     \n",
      "    HHHHHHHHHHHHHHHHHHHHHHHHHHHHHHHHHHHHHHHHHHHHH     \n",
      "    HHHHHHHHHHHHHHHHHHHHHHHHHHHHHHHHHHHHHHHHHHHHH     \n",
      "    HHHHHHHHHHHHHHHHHHHHHHHHHHHHHHHHHHHHHHHHHHHHH     \n",
      "    HHHHHHHHHHHHHHHHHHHHHHHHHHHHHHHHHHHHHHHHHHHHH     \n",
      "    HHHHHHHHH                           HHHHHHHHH                       \n",
      "    HHHHHHHHH                           HHHHHHHHH                       \n",
      "    HHHHHHHHH                           HHHHHHHHH                       \n",
      "    HHHHHHHHH                           HHHHHHHHH                       \n",
      "    HHHHHHHHH                           HHHHHHHHH                       \n",
      "    HHHHHHHHH                           HHHHHHHHH                       \n",
      "    HHHHHHHHH                           HHHHHHHHH                       \n",
      "    HHHHHHHHH                           HHHHHHHHH                       \n",
      "    HHHHHHHHH                           HHHHHHHHH                       \n",
      "    HHHHHHHHH                           HHHHHHHHH                       \n",
      "                                    HHHHHHHHHHHHHHHHH \n",
      "                                     HHHHHHHHHHHHHHH  \n",
      "                                      HHHHHHHHHHHHH   \n",
      "                                       HHHHHHHHHHH    \n",
      "                                        HHHHHHHHH     \n",
      "                                         HHHHHHH      \n",
      "                                          HHHHH       \n",
      "                                           HHH        \n",
      "                                            H         \n"
     ]
    }
   ],
   "source": [
    "thickness = 9 #int(input())\n",
    "c = 'H'\n",
    "#Top Cone\n",
    "for i in range(thickness):\n",
    "    print((c*i).rjust(thickness-1)+c+(c*i).ljust(thickness-1))\n",
    "\n",
    "#Top Pillars\n",
    "for i in range(thickness+1):\n",
    "    print((c*thickness).center(thickness*2)+(c*thickness).center(thickness*6))\n",
    "\n",
    "#Middle Belt\n",
    "for i in range((thickness+1)//2):\n",
    "    print((c*thickness*5).center(thickness*6))    \n",
    "\n",
    "#Bottom Pillars\n",
    "for i in range(thickness+1):\n",
    "    print((c*thickness).center(thickness*2)+(c*thickness).center(thickness*6))    \n",
    "\n",
    "#Bottom Cone\n",
    "for i in range(thickness):\n",
    "    print(((c*(thickness-i-1)).rjust(thickness)+c+(c*(thickness-i-1)).ljust(thickness)).rjust(thickness*6))"
   ]
  },
  {
   "cell_type": "code",
   "execution_count": null,
   "id": "b6f838d1-d1f2-41b0-bad5-2f1854e07208",
   "metadata": {},
   "outputs": [],
   "source": []
  },
  {
   "cell_type": "code",
   "execution_count": null,
   "id": "f7991e06",
   "metadata": {},
   "outputs": [],
   "source": []
  }
 ],
 "metadata": {
  "kernelspec": {
   "display_name": "Python 3 (ipykernel)",
   "language": "python",
   "name": "python3"
  },
  "language_info": {
   "codemirror_mode": {
    "name": "ipython",
    "version": 3
   },
   "file_extension": ".py",
   "mimetype": "text/x-python",
   "name": "python",
   "nbconvert_exporter": "python",
   "pygments_lexer": "ipython3",
   "version": "3.10.12"
  }
 },
 "nbformat": 4,
 "nbformat_minor": 5
}
