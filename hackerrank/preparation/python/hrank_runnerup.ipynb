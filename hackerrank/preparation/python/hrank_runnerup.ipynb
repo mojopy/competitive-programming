{
 "cells": [
  {
   "cell_type": "markdown",
   "id": "be862e48-99b1-4211-bd9f-d0f1817eca29",
   "metadata": {},
   "source": [
    "# Find the Runner-Up Score!\n",
    "## Pre Knowledge"
   ]
  },
  {
   "cell_type": "code",
   "execution_count": null,
   "id": "3919b188-f4bf-4bf1-9930-4614b634853e",
   "metadata": {},
   "outputs": [],
   "source": []
  },
  {
   "cell_type": "markdown",
   "id": "b754df6a-7d5b-47dc-b765-f11c13e8f0bf",
   "metadata": {},
   "source": [
    "## Psudocode"
   ]
  },
  {
   "cell_type": "code",
   "execution_count": null,
   "id": "7ba2083e-e424-4478-9a77-03c869392b90",
   "metadata": {},
   "outputs": [],
   "source": [
    "# Given Score list\n",
    "# Shorting list to max to min\n",
    "# finding the second max value by for loop\n",
    "# print it"
   ]
  },
  {
   "cell_type": "markdown",
   "id": "d2d839dd-953d-464c-b3f6-a838c6e27830",
   "metadata": {},
   "source": [
    "# Jagged or Crude Solutions"
   ]
  },
  {
   "cell_type": "code",
   "execution_count": null,
   "id": "5307937b-f163-4c21-9227-996614b5edd4",
   "metadata": {},
   "outputs": [],
   "source": [
    "if __name__ == '__main__':\n",
    "    n = int(input())\n",
    "    arr = map(int, input().split())\n",
    "    \n",
    "    arr = list(arr)\n",
    "    arr.sort(reverse=True)\n",
    "    \n",
    "    for score in range(len(arr)):\n",
    "        if arr[score] != arr[score +1]:\n",
    "            runner_up = arr[score +1]\n",
    "            break\n",
    "        else:\n",
    "            continue\n",
    "    print(runner_up)"
   ]
  },
  {
   "cell_type": "markdown",
   "id": "74c04f5a-c8d6-4387-8601-1460065f41b6",
   "metadata": {},
   "source": [
    "# Refined Solutions"
   ]
  },
  {
   "cell_type": "code",
   "execution_count": null,
   "id": "5ecdedef-01f5-4498-85f0-eab9eb7d95b2",
   "metadata": {},
   "outputs": [],
   "source": []
  }
 ],
 "metadata": {
  "kernelspec": {
   "display_name": "Python 3 (ipykernel)",
   "language": "python",
   "name": "python3"
  },
  "language_info": {
   "codemirror_mode": {
    "name": "ipython",
    "version": 3
   },
   "file_extension": ".py",
   "mimetype": "text/x-python",
   "name": "python",
   "nbconvert_exporter": "python",
   "pygments_lexer": "ipython3",
   "version": "3.10.12"
  }
 },
 "nbformat": 4,
 "nbformat_minor": 5
}
